{
 "cells": [
  {
   "cell_type": "markdown",
   "metadata": {},
   "source": [
    "## Selenium Automation: Google Trends Query Comparisson"
   ]
  },
  {
   "cell_type": "markdown",
   "metadata": {},
   "source": [
    "##### Script to automate searching comparison data in Google Trends."
   ]
  },
  {
   "cell_type": "code",
   "execution_count": 1,
   "metadata": {},
   "outputs": [],
   "source": [
    "from selenium import webdriver\n",
    "import time\n",
    "from selenium.webdriver.common.keys import Keys\n",
    "from selenium.webdriver.chrome.options import Options"
   ]
  },
  {
   "cell_type": "code",
   "execution_count": 2,
   "metadata": {},
   "outputs": [],
   "source": [
    "chromeOptions = Options()\n",
    "# chromeOptions.add_argument('--kiosk') <-- page load on fullscreen"
   ]
  },
  {
   "cell_type": "code",
   "execution_count": 9,
   "metadata": {},
   "outputs": [],
   "source": [
    "driver = webdriver.Chrome('**ADD LOCAL ROUTE HERE**',options=chromeOptions)\n",
    "# load Google\n",
    "driver.get('https://www.google.com/')\n",
    "time.sleep(1)\n",
    "\n",
    "# find search box\n",
    "ele = driver.find_element_by_name('q')\n",
    "time.sleep(1)\n",
    "ele.clear()\n",
    "\n",
    "# search for Google Trends\n",
    "ele.send_keys('google trends')\n",
    "ele.send_keys(Keys.RETURN)\n",
    "\n",
    "# click GA organic result\n",
    "driver.find_element_by_xpath('//*[@id=\"rso\"]/div[1]/div/div/div[1]/a/h3').click()\n",
    "time.sleep(1)\n",
    "\n",
    "# find search box\n",
    "ele = driver.find_element_by_xpath('//*[@id=\"input-254\"]')\n",
    "time.sleep(1)\n",
    "ele.clear()\n",
    "ele.send_keys('python programming')\n",
    "ele.send_keys(Keys.RETURN)\n",
    "\n",
    "# click to add and compare query\n",
    "time.sleep(2)\n",
    "driver.find_element_by_xpath('//*[@id=\"explorepage-content-header\"]/explore-pills/div/button/span/span[1]').click()\n",
    "time.sleep(5)\n",
    "\n",
    "# find comparisson search box\n",
    "search_boxes = driver.find_elements_by_css_selector('input[aria-label=\"Add a search term\"]')\n",
    "target_box = search_boxes[1] # Second Box, we're assuming there is always one term.\n",
    "\n",
    "target_box.send_keys('r programming')\n",
    "target_box.send_keys(Keys.RETURN)\n",
    "time.sleep(2)\n",
    "\n",
    "# click to open past timeframe dropdown\n",
    "driver.find_element_by_xpath('//*[@id=\"select_value_label_11\"]/span[1]/div').click()\n",
    "time.sleep(1)\n",
    "\n",
    "# click 2004-present option in the dropdown\n",
    "driver.find_element_by_xpath('//*[@id=\"select_option_23\"]').click()\n",
    "time.sleep(1)\n",
    "\n",
    "# click to download data in a csv file to your local machine\n",
    "driver.find_element_by_xpath('/html/body/div[2]/div[2]/div/md-content/div/div/div[1]/trends-widget/ng-include/widget/div/div/div/widget-actions/div/button[1]/i').click()\n",
    "\n"
   ]
  },
  {
   "cell_type": "code",
   "execution_count": 10,
   "metadata": {},
   "outputs": [],
   "source": [
    "driver.quit()"
   ]
  }
 ],
 "metadata": {
  "kernelspec": {
   "display_name": "Python 3",
   "language": "python",
   "name": "python3"
  },
  "language_info": {
   "codemirror_mode": {
    "name": "ipython",
    "version": 3
   },
   "file_extension": ".py",
   "mimetype": "text/x-python",
   "name": "python",
   "nbconvert_exporter": "python",
   "pygments_lexer": "ipython3",
   "version": "3.7.4"
  }
 },
 "nbformat": 4,
 "nbformat_minor": 2
}
